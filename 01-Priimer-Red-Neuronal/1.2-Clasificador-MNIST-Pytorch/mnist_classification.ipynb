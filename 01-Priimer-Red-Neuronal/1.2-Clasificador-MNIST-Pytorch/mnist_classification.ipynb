{
 "cells": [
  {
   "cell_type": "code",
   "execution_count": null,
   "metadata": {},
   "outputs": [],
   "source": [
    "# Importar módulos\n",
    "from src.model import Net\n",
    "from src.data_loader import get_data_loaders\n",
    "from src.train import train_model\n",
    "from src.evaluate import evaluate_model\n",
    "from PIL import Image  # Importa PIL para manejar las imágenes\n",
    "from src.inference import predict_image  # Importa la función de inferencia"
   ]
  },
  {
   "cell_type": "code",
   "execution_count": null,
   "metadata": {},
   "outputs": [],
   "source": [
    "# Obtener datos\n",
    "train_loader, test_loader = get_data_loaders()"
   ]
  },
  {
   "cell_type": "code",
   "execution_count": null,
   "metadata": {},
   "outputs": [],
   "source": [
    "# Inicializar modelo\n",
    "model = Net()"
   ]
  },
  {
   "cell_type": "code",
   "execution_count": null,
   "metadata": {},
   "outputs": [],
   "source": [
    "# Entrenar modelo\n",
    "train_model(model, train_loader)"
   ]
  },
  {
   "cell_type": "code",
   "execution_count": null,
   "metadata": {},
   "outputs": [],
   "source": [
    "# Evaluar modelo\n",
    "evaluate_model(model, test_loader)"
   ]
  },
  {
   "cell_type": "code",
   "execution_count": null,
   "metadata": {},
   "outputs": [],
   "source": [
    "# Cargar modelo entrenado\n",
    "# (ATENCION el modelo ya debe estaar entrenado)\n",
    "model = Net()  # Inicializa el modelo\n",
    "model.load_state_dict(torch.load('model.pth'))  # Carga el estado entrenado del modelo\n",
    "\n",
    "# Cargar una imagen para probar (aquí deberías poner la ruta de la imagen)\n",
    "img_path = 'ruta_a_la_imagen/mnist_digit.png'\n",
    "image = Image.open(img_path).convert('L')  # Carga la imagen y la convierte a escala de grises\n",
    "\n",
    "# Realizar inferencia\n",
    "predicted_class = predict_image(model, image)  # Obtén la predicción para la imagen\n",
    "\n",
    "# Mostrar el resultado\n",
    "print(f'La imagen fue clasificada como: {predicted_class}')\n"
   ]
  }
 ],
 "metadata": {
  "language_info": {
   "name": "python"
  }
 },
 "nbformat": 4,
 "nbformat_minor": 2
}
