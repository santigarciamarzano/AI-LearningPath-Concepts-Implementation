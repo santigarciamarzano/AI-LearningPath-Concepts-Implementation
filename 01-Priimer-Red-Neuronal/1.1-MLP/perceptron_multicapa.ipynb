{
 "cells": [
  {
   "cell_type": "markdown",
   "metadata": {},
   "source": [
    "# Implementación de un Perceptrón Multicapa desde Cero\n",
    "\n",
    "En esta sección, implementaremos un perceptrón multicapa (MLP) desde cero utilizando NumPy. Veremos cómo se construyen las redes neuronales, cómo se realiza el entrenamiento mediante retropropagación y cómo se ajustan los pesos.\n",
    "\n",
    "## Objetivos\n",
    "- Construir un perceptrón multicapa.\n",
    "- Implementar la función de activación y la retropropagación.\n",
    "- Entrenar el MLP en un problema de clasificación simple."
   ]
  },
  {
   "cell_type": "code",
   "execution_count": 1,
   "metadata": {},
   "outputs": [],
   "source": [
    "import numpy as np\n",
    "import matplotlib.pyplot as plt\n"
   ]
  },
  {
   "cell_type": "markdown",
   "metadata": {},
   "source": [
    "Creamos arrays de valores para una XOR"
   ]
  },
  {
   "cell_type": "code",
   "execution_count": 2,
   "metadata": {},
   "outputs": [],
   "source": [
    "X = np.array([[0, 0], [0, 1], [1, 0], [1, 1]])\n",
    "y = np.array([[0], [1], [1], [0]])"
   ]
  },
  {
   "cell_type": "markdown",
   "metadata": {},
   "source": [
    "Definimos la funcion de activacion sigmoid"
   ]
  },
  {
   "cell_type": "code",
   "execution_count": 3,
   "metadata": {},
   "outputs": [],
   "source": [
    "# Función de Activación Sigmoide\n",
    "def sigmoid(x):\n",
    "    return 1 / (1 + np.exp(-x))\n",
    "\n",
    "def sigmoid_derivative(x):\n",
    "    return x * (1 - x)\n"
   ]
  },
  {
   "cell_type": "code",
   "execution_count": 4,
   "metadata": {},
   "outputs": [],
   "source": [
    "# Inicialización de Pesos\n",
    "input_layer_neurons = 2  # Número de características en los datos de entrada\n",
    "hidden_layer_neurons = 4 # Número de neuronas en la capa oculta\n",
    "output_neurons = 1       # Número de neuronas en la capa de salida\n",
    "\n",
    "np.random.seed(1)\n",
    "hidden_layer_weights = np.random.uniform(size=(input_layer_neurons, hidden_layer_neurons))\n",
    "output_layer_weights = np.random.uniform(size=(hidden_layer_neurons, output_neurons))\n",
    "hidden_layer_bias = np.random.uniform(size=(1, hidden_layer_neurons))\n",
    "output_layer_bias = np.random.uniform(size=(1, output_neurons))\n"
   ]
  },
  {
   "cell_type": "markdown",
   "metadata": {},
   "source": [
    "Forward pass bàsico que realiza los productos punto de las entradas con los pesos y suma el bias "
   ]
  },
  {
   "cell_type": "code",
   "execution_count": 5,
   "metadata": {},
   "outputs": [],
   "source": [
    "# Forward Pass\n",
    "def forward_pass(X):\n",
    "    global hidden_layer_weights, output_layer_weights\n",
    "    global hidden_layer_bias, output_layer_bias\n",
    "\n",
    "    hidden_layer_activation = np.dot(X, hidden_layer_weights) + hidden_layer_bias\n",
    "    hidden_layer_output = sigmoid(hidden_layer_activation)\n",
    "\n",
    "    output_layer_activation = np.dot(hidden_layer_output, output_layer_weights) + output_layer_bias\n",
    "    output = sigmoid(output_layer_activation)\n",
    "\n",
    "    return output, hidden_layer_output\n"
   ]
  },
  {
   "cell_type": "markdown",
   "metadata": {},
   "source": [
    "Tomando los datos de salida definde los gradientes y realiza los productos punto hacia atràs en la red."
   ]
  },
  {
   "cell_type": "code",
   "execution_count": 6,
   "metadata": {},
   "outputs": [],
   "source": [
    "# Backpropagation\n",
    "def backward_pass(X, y, output, hidden_layer_output, learning_rate=0.5):\n",
    "    global hidden_layer_weights, output_layer_weights\n",
    "    global hidden_layer_bias, output_layer_bias\n",
    "\n",
    "    error = y - output\n",
    "    d_output = error * sigmoid_derivative(output)\n",
    "\n",
    "    error_hidden_layer = d_output.dot(output_layer_weights.T)\n",
    "    d_hidden_layer = error_hidden_layer * sigmoid_derivative(hidden_layer_output)\n",
    "\n",
    "    output_layer_weights += hidden_layer_output.T.dot(d_output) * learning_rate\n",
    "    output_layer_bias += np.sum(d_output, axis=0, keepdims=True) * learning_rate\n",
    "    hidden_layer_weights += X.T.dot(d_hidden_layer) * learning_rate\n",
    "    hidden_layer_bias += np.sum(d_hidden_layer, axis=0, keepdims=True) * learning_rate\n"
   ]
  },
  {
   "cell_type": "markdown",
   "metadata": {},
   "source": [
    "Para el entrenamiento se definen los epoch, el lr y mediante un ciclo for se realiza el forward y el backward. Luego se vsualiza el error en un gràfico para cada epoch.\n",
    "Tambièn printea los valores predichos por la red para las entradas con los pesos aprendidos."
   ]
  },
  {
   "cell_type": "code",
   "execution_count": 7,
   "metadata": {},
   "outputs": [
    {
     "name": "stdout",
     "output_type": "stream",
     "text": [
      "Epoch 0, Error: 0.377696270364565\n",
      "Epoch 1000, Error: 0.24973421384077332\n",
      "Epoch 2000, Error: 0.24910724662782735\n",
      "Epoch 3000, Error: 0.24489249783037087\n",
      "Epoch 4000, Error: 0.21356464173257256\n",
      "Epoch 5000, Error: 0.14930623496211726\n",
      "Epoch 6000, Error: 0.05359700980040481\n",
      "Epoch 7000, Error: 0.017920859349063414\n",
      "Epoch 8000, Error: 0.009087690742437992\n",
      "Epoch 9000, Error: 0.005743294694711749\n"
     ]
    },
    {
     "data": {
      "image/png": "[encoded data removed]",
      "text/plain": [
       "<Figure size 640x480 with 1 Axes>"
      ]
     },
     "metadata": {},
     "output_type": "display_data"
    },
    {
     "name": "stdout",
     "output_type": "stream",
     "text": [
      "Predicciones finales:\n",
      "[[0.06499722]\n",
      " [0.94286693]\n",
      " [0.93305962]\n",
      " [0.06620534]]\n",
      "Salidas reales:\n",
      "[[0]\n",
      " [1]\n",
      " [1]\n",
      " [0]]\n"
     ]
    }
   ],
   "source": [
    "# Entrenamiento del MLP\n",
    "epochs = 10000\n",
    "learning_rate = 0.1\n",
    "errors = []\n",
    "\n",
    "for epoch in range(epochs):\n",
    "    output, hidden_layer_output = forward_pass(X)\n",
    "    backward_pass(X, y, output, hidden_layer_output, learning_rate)\n",
    "    \n",
    "    # Guardar el error para visualizar\n",
    "    mse = np.mean(np.square(y - output))\n",
    "    errors.append(mse)\n",
    "    \n",
    "    if epoch % 1000 == 0:\n",
    "        print(f\"Epoch {epoch}, Error: {mse}\")\n",
    "\n",
    "# Visualización del error durante el entrenamiento\n",
    "plt.plot(errors)\n",
    "plt.xlabel('Epochs')\n",
    "plt.ylabel('Mean Squared Error')\n",
    "plt.title('Error durante entrenamiato')\n",
    "plt.show()\n",
    "\n",
    "# Predicciones finales\n",
    "output, _ = forward_pass(X)\n",
    "print(\"Predicciones finales:\")\n",
    "print(output)\n",
    "\n",
    "print(\"Salidas reales:\")\n",
    "print(y)\n"
   ]
  }
 ],
 "metadata": {
  "kernelspec": {
   "display_name": "python3.10",
   "language": "python",
   "name": "python3"
  },
  "language_info": {
   "codemirror_mode": {
    "name": "ipython",
    "version": 3
   },
   "file_extension": ".py",
   "mimetype": "text/x-python",
   "name": "python",
   "nbconvert_exporter": "python",
   "pygments_lexer": "ipython3",
   "version": "3.10.14"
  }
 },
 "nbformat": 4,
 "nbformat_minor": 2
}
