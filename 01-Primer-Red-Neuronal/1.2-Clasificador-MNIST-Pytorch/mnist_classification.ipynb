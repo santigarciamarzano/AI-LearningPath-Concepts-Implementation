{
 "cells": [
  {
   "cell_type": "markdown",
   "metadata": {},
   "source": [
    "PRIMER PASO: INSTALAR REQUERIMENTOS!!"
   ]
  },
  {
   "cell_type": "code",
   "execution_count": null,
   "metadata": {},
   "outputs": [],
   "source": [
    "!pip install -r requirements.txt "
   ]
  },
  {
   "cell_type": "code",
   "execution_count": 2,
   "metadata": {},
   "outputs": [],
   "source": [
    "import sys\n",
    "import os\n",
    "\n",
    "# Añade la carpeta src al PYTHONPATH\n",
    "sys.path.append(os.path.abspath('src'))\n"
   ]
  },
  {
   "cell_type": "code",
   "execution_count": 3,
   "metadata": {},
   "outputs": [],
   "source": [
    "# Importar módulos\n",
    "import torch\n",
    "from src.model import Net\n",
    "from src.data_loader import get_data_loaders\n",
    "from src.train import train_model\n",
    "from src.evaluate import evaluate_model\n",
    "from PIL import Image  # Importa PIL para manejar las imágenes\n",
    "#from src.inference import predict_image  # Importa la función de inferencia"
   ]
  },
  {
   "cell_type": "code",
   "execution_count": 3,
   "metadata": {},
   "outputs": [],
   "source": [
    "# Obtener datos\n",
    "train_loader, test_loader = get_data_loaders()"
   ]
  },
  {
   "cell_type": "code",
   "execution_count": 4,
   "metadata": {},
   "outputs": [
    {
     "data": {
      "image/png": "[encoded data removed]",
      "text/plain": [
       "<Figure size 640x480 with 1 Axes>"
      ]
     },
     "metadata": {},
     "output_type": "display_data"
    }
   ],
   "source": [
    "import matplotlib.pyplot as plt\n",
    "import torch\n",
    "\n",
    "# Obtener una muestra del train_loader\n",
    "data_iter = iter(train_loader)\n",
    "images, labels = next(data_iter)\n",
    "\n",
    "# Elegir una imagen aleatoria del batch\n",
    "index = torch.randint(0, len(images), (1,)).item()\n",
    "\n",
    "# Mostrar la imagen\n",
    "plt.imshow(images[index].numpy().squeeze(), cmap='gray')\n",
    "plt.title(f'Label: {labels[index].item()}')\n",
    "plt.show()\n"
   ]
  },
  {
   "cell_type": "code",
   "execution_count": 5,
   "metadata": {},
   "outputs": [],
   "source": [
    "# Inicializar modelo\n",
    "model = Net()"
   ]
  },
  {
   "cell_type": "code",
   "execution_count": null,
   "metadata": {},
   "outputs": [],
   "source": [
    "# Entrenamiento del modelo\n",
    "\n",
    "# Parámetros de entrenamiento\n",
    "epochs = 6\n",
    "learning_rate = 0.01  \n",
    "momentum = 0.9  \n",
    "\n",
    "train_model(model, train_loader, epochs=epochs, lr=learning_rate, momentum=momentum)\n"
   ]
  },
  {
   "cell_type": "code",
   "execution_count": null,
   "metadata": {},
   "outputs": [],
   "source": [
    "# Evaluar modelo\n",
    "evaluate_model(model, test_loader)"
   ]
  },
  {
   "cell_type": "code",
   "execution_count": 7,
   "metadata": {},
   "outputs": [
    {
     "name": "stdout",
     "output_type": "stream",
     "text": [
      "La imagen fue clasificada como: 0\n"
     ]
    }
   ],
   "source": [
    "import inference\n",
    "\n",
    "# Define las rutas al modelo y a la imagen\n",
    "ruta_modelo = '/media/minigo/Disco/modelado3d/santiago/Capacitaciones/AI-LearningPath-Concepts-Implementation/01-Priimer-Red-Neuronal/1.2-Clasificador-MNIST-Pytorch/model.pth'\n",
    "ruta_imagen = '/media/minigo/Disco/modelado3d/santiago/Capacitaciones/AI-LearningPath-Concepts-Implementation/01-Priimer-Red-Neuronal/1.2-Clasificador-MNIST-Pytorch/imagen_prueba.png'\n",
    "\n",
    "# Llama a la función `main` del script directamente\n",
    "inference.main(ruta_modelo, ruta_imagen)\n",
    "\n"
   ]
  }
 ],
 "metadata": {
  "kernelspec": {
   "display_name": "python3.10",
   "language": "python",
   "name": "python3"
  },
  "language_info": {
   "codemirror_mode": {
    "name": "ipython",
    "version": 3
   },
   "file_extension": ".py",
   "mimetype": "text/x-python",
   "name": "python",
   "nbconvert_exporter": "python",
   "pygments_lexer": "ipython3",
   "version": "3.10.14"
  }
 },
 "nbformat": 4,
 "nbformat_minor": 2
}
