{
 "cells": [
  {
   "cell_type": "code",
   "execution_count": null,
   "metadata": {},
   "outputs": [],
   "source": [
    "!pip install -r requirements.txt"
   ]
  },
  {
   "cell_type": "code",
   "execution_count": null,
   "metadata": {},
   "outputs": [],
   "source": [
    "# importar el archivo model.py desde la carpeta src\n",
    "import sys\n",
    "sys.path.append('./src')  # añade la carpeta src al path de Python\n",
    "\n",
    "import src.model as mdl\n"
   ]
  },
  {
   "cell_type": "code",
   "execution_count": null,
   "metadata": {},
   "outputs": [],
   "source": [
    "# cargar y normalizar los datos usando la función definida en model.py\n",
    "(x_train, y_train), (x_test, y_test) = mdl.load_and_normalize_data()\n"
   ]
  },
  {
   "cell_type": "code",
   "execution_count": null,
   "metadata": {},
   "outputs": [],
   "source": [
    "# construir el modelo usando la función build_model\n",
    "model_instance = mdl.build_model()\n",
    "# compilar el modelo usando la función compile_model\n",
    "mdl.compile_model(model_instance)\n"
   ]
  },
  {
   "cell_type": "code",
   "execution_count": null,
   "metadata": {},
   "outputs": [],
   "source": [
    "# entrenar el modelo con la función train_model\n",
    "#epochs = 10\n",
    "history = mdl.train_model(model_instance, x_train, y_train, x_test, y_test)\n"
   ]
  },
  {
   "cell_type": "code",
   "execution_count": null,
   "metadata": {},
   "outputs": [],
   "source": [
    "# guardar el modelo con la función save_model\n",
    "mdl.save_model(model_instance, 'cifar10_model.h5')\n"
   ]
  },
  {
   "cell_type": "code",
   "execution_count": null,
   "metadata": {},
   "outputs": [],
   "source": [
    "# visualizar el rendimiento del modelo usando la función plot_performance\n",
    "mdl.plot_performance(history)\n"
   ]
  },
  {
   "cell_type": "code",
   "execution_count": null,
   "metadata": {},
   "outputs": [],
   "source": [
    "import src.inference as inf\n",
    "\n",
    "# cargar el modelo entrenado\n",
    "model = inf.load_trained_model('/media/minigo/Disco/modelado3d/santiago/Capacitaciones/AI-LearningPath-Concepts-Implementation/01-Priimer-Red-Neuronal/1.3-Clasificador-imagenes-CIFAR10/cifar10_model.h5')\n",
    "\n",
    "# nombres de las clases en CIFAR-10\n",
    "class_names = ['airplane', 'automobile', 'bird', 'cat', 'deer', 'dog', 'frog', 'horse', 'ship', 'truck']\n",
    "\n",
    "# ruta a la imagen que quieres predecir\n",
    "img_path = '/media/minigo/Disco/modelado3d/santiago/Capacitaciones/AI-LearningPath-Concepts-Implementation/01-Priimer-Red-Neuronal/1.3-Clasificador-imagenes-CIFAR10/perro.png'\n",
    "\n",
    "# hacer la predicción y mostrar el resultado\n",
    "predicted_class = inf.predict_and_display(model, img_path, class_names)\n",
    "print(f'Predicted class: {predicted_class}')\n"
   ]
  }
 ],
 "metadata": {
  "kernelspec": {
   "display_name": "python3.10",
   "language": "python",
   "name": "python3"
  },
  "language_info": {
   "codemirror_mode": {
    "name": "ipython",
    "version": 3
   },
   "file_extension": ".py",
   "mimetype": "text/x-python",
   "name": "python",
   "nbconvert_exporter": "python",
   "pygments_lexer": "ipython3",
   "version": "3.10.14"
  }
 },
 "nbformat": 4,
 "nbformat_minor": 2
}
